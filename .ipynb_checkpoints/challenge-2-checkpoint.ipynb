{
 "cells": [
  {
   "cell_type": "code",
   "execution_count": 33,
   "metadata": {},
   "outputs": [],
   "source": [
    "import requests\n",
    "# First, we need to import the requests library, for it is the based for api scraping"
   ]
  },
  {
   "cell_type": "code",
   "execution_count": 34,
   "metadata": {},
   "outputs": [
    {
     "data": {
      "text/plain": [
       "[{'sha': 'da9de3d77c444cce1bace95e5aa1a4f50bd5d4a4',\n",
       "  'node_id': 'MDY6Q29tbWl0MjQ4NDAwOTczOmRhOWRlM2Q3N2M0NDRjY2UxYmFjZTk1ZTVhYTFhNGY1MGJkNWQ0YTQ=',\n",
       "  'commit': {'author': {'name': 'ta-data-mexpt',\n",
       "    'email': '55260094+ta-data-mexpt@users.noreply.github.com',\n",
       "    'date': '2020-03-19T03:22:51Z'},\n",
       "   'committer': {'name': 'GitHub',\n",
       "    'email': 'noreply@github.com',\n",
       "    'date': '2020-03-19T03:22:51Z'},\n",
       "   'message': 'INIT',\n",
       "   'tree': {'sha': 'cb0f41c77846593f364e96403a46e41f58e7869b',\n",
       "    'url': 'https://api.github.com/repos/ta-data-mexpt/lab-api-scavenger/git/trees/cb0f41c77846593f364e96403a46e41f58e7869b'},\n",
       "   'url': 'https://api.github.com/repos/ta-data-mexpt/lab-api-scavenger/git/commits/da9de3d77c444cce1bace95e5aa1a4f50bd5d4a4',\n",
       "   'comment_count': 0,\n",
       "   'verification': {'verified': True,\n",
       "    'reason': 'valid',\n",
       "    'signature': '-----BEGIN PGP SIGNATURE-----\\n\\nwsBcBAABCAAQBQJecuWLCRBK7hj4Ov3rIwAAdHIIAKdbvkqVCXHMnYwjOoK7tX8K\\n0+EfWuiRPf5GEsV0Gpwj7spYWHVv1DdBB6Tl3TXSPVoGSZY8bB96N7jYXO3zTqdB\\n9uHg6/C7B1akpL6C07WbL3xrqKUyPzlgl9vipJyG1Hjo8A3/FlXTgrC9VUql36rF\\nHllfYf5p6EdDQ81M/JkDk++XmLHJp+Ve2od5a1Jp69y+nr/beslsn+HUdIZH8iw9\\nKSI/WEANIt6GR9qmp40ttgMPevvQ2oulsw6I7zgg4a/PIaXKQUwGIGfx93NlYhJE\\nxDzKdgMj9r0iLqc0/4O3bLSQPH0mdlbgUazzlD25pqc4G/PDiyBRkQWug7HP2Bs=\\n=LFvK\\n-----END PGP SIGNATURE-----\\n',\n",
       "    'payload': 'tree cb0f41c77846593f364e96403a46e41f58e7869b\\nauthor ta-data-mexpt <55260094+ta-data-mexpt@users.noreply.github.com> 1584588171 -0600\\ncommitter GitHub <noreply@github.com> 1584588171 -0600\\n\\nINIT'}},\n",
       "  'url': 'https://api.github.com/repos/ta-data-mexpt/lab-api-scavenger/commits/da9de3d77c444cce1bace95e5aa1a4f50bd5d4a4',\n",
       "  'html_url': 'https://github.com/ta-data-mexpt/lab-api-scavenger/commit/da9de3d77c444cce1bace95e5aa1a4f50bd5d4a4',\n",
       "  'comments_url': 'https://api.github.com/repos/ta-data-mexpt/lab-api-scavenger/commits/da9de3d77c444cce1bace95e5aa1a4f50bd5d4a4/comments',\n",
       "  'author': {'login': 'ta-data-mexpt',\n",
       "   'id': 55260094,\n",
       "   'node_id': 'MDQ6VXNlcjU1MjYwMDk0',\n",
       "   'avatar_url': 'https://avatars1.githubusercontent.com/u/55260094?v=4',\n",
       "   'gravatar_id': '',\n",
       "   'url': 'https://api.github.com/users/ta-data-mexpt',\n",
       "   'html_url': 'https://github.com/ta-data-mexpt',\n",
       "   'followers_url': 'https://api.github.com/users/ta-data-mexpt/followers',\n",
       "   'following_url': 'https://api.github.com/users/ta-data-mexpt/following{/other_user}',\n",
       "   'gists_url': 'https://api.github.com/users/ta-data-mexpt/gists{/gist_id}',\n",
       "   'starred_url': 'https://api.github.com/users/ta-data-mexpt/starred{/owner}{/repo}',\n",
       "   'subscriptions_url': 'https://api.github.com/users/ta-data-mexpt/subscriptions',\n",
       "   'organizations_url': 'https://api.github.com/users/ta-data-mexpt/orgs',\n",
       "   'repos_url': 'https://api.github.com/users/ta-data-mexpt/repos',\n",
       "   'events_url': 'https://api.github.com/users/ta-data-mexpt/events{/privacy}',\n",
       "   'received_events_url': 'https://api.github.com/users/ta-data-mexpt/received_events',\n",
       "   'type': 'User',\n",
       "   'site_admin': False},\n",
       "  'committer': {'login': 'web-flow',\n",
       "   'id': 19864447,\n",
       "   'node_id': 'MDQ6VXNlcjE5ODY0NDQ3',\n",
       "   'avatar_url': 'https://avatars3.githubusercontent.com/u/19864447?v=4',\n",
       "   'gravatar_id': '',\n",
       "   'url': 'https://api.github.com/users/web-flow',\n",
       "   'html_url': 'https://github.com/web-flow',\n",
       "   'followers_url': 'https://api.github.com/users/web-flow/followers',\n",
       "   'following_url': 'https://api.github.com/users/web-flow/following{/other_user}',\n",
       "   'gists_url': 'https://api.github.com/users/web-flow/gists{/gist_id}',\n",
       "   'starred_url': 'https://api.github.com/users/web-flow/starred{/owner}{/repo}',\n",
       "   'subscriptions_url': 'https://api.github.com/users/web-flow/subscriptions',\n",
       "   'organizations_url': 'https://api.github.com/users/web-flow/orgs',\n",
       "   'repos_url': 'https://api.github.com/users/web-flow/repos',\n",
       "   'events_url': 'https://api.github.com/users/web-flow/events{/privacy}',\n",
       "   'received_events_url': 'https://api.github.com/users/web-flow/received_events',\n",
       "   'type': 'User',\n",
       "   'site_admin': False},\n",
       "  'parents': []}]"
      ]
     },
     "execution_count": 34,
     "metadata": {},
     "output_type": "execute_result"
    }
   ],
   "source": [
    "respuesta = requests.get('https://api.github.com/repos/ta-data-mexpt/lab-api-scavenger/commits')\n",
    "# This is the url for our bootcamp :)\n",
    "resultados = respuesta.json()\n",
    "# We need to convert the data into json, so it can be usable\n",
    "resultados\n",
    "# We get to see the results from this calling"
   ]
  },
  {
   "cell_type": "code",
   "execution_count": 45,
   "metadata": {},
   "outputs": [
    {
     "name": "stdout",
     "output_type": "stream",
     "text": [
      "Total number of commits:  1\n"
     ]
    }
   ],
   "source": [
    "print('Total number of commits: ', len(resultados))\n",
    "# Looking for how many commits have been, in total"
   ]
  },
  {
   "cell_type": "code",
   "execution_count": 51,
   "metadata": {},
   "outputs": [
    {
     "data": {
      "text/plain": [
       "'2020-03-19T03:22:51Z'"
      ]
     },
     "execution_count": 51,
     "metadata": {},
     "output_type": "execute_result"
    }
   ],
   "source": [
    "resultados[0]['commit']['committer']['date']\n",
    "# knowing whatwe have to work with"
   ]
  },
  {
   "cell_type": "code",
   "execution_count": 54,
   "metadata": {},
   "outputs": [
    {
     "data": {
      "text/plain": [
       "'2020-03-19'"
      ]
     },
     "execution_count": 54,
     "metadata": {},
     "output_type": "execute_result"
    }
   ],
   "source": [
    "date = resultados[0]['commit']['committer']['date'][:10]\n",
    "date\n",
    "# learning how to convert date into something easier to handle"
   ]
  },
  {
   "cell_type": "code",
   "execution_count": 93,
   "metadata": {},
   "outputs": [
    {
     "data": {
      "text/plain": [
       "['2020-03-19']"
      ]
     },
     "execution_count": 93,
     "metadata": {},
     "output_type": "execute_result"
    }
   ],
   "source": [
    "str_dates = [i['commit']['committer']['date'][:10] for i in resultados]\n",
    "str_dates\n",
    "# Creating a list comprehension to convert all the dates into something we want to deal with"
   ]
  },
  {
   "cell_type": "code",
   "execution_count": 71,
   "metadata": {},
   "outputs": [
    {
     "data": {
      "text/plain": [
       "[datetime.date(2020, 3, 19)]"
      ]
     },
     "execution_count": 71,
     "metadata": {},
     "output_type": "execute_result"
    }
   ],
   "source": [
    "import datetime\n",
    "\n",
    "dates = [(datetime.datetime.strptime(i, '%Y-%m-%d')).date() for i in str_dates]\n",
    "dates  \n",
    "# Now we have a list of date data type, we can use it to compare in the next step"
   ]
  },
  {
   "cell_type": "code",
   "execution_count": 77,
   "metadata": {},
   "outputs": [
    {
     "data": {
      "text/plain": [
       "False"
      ]
     },
     "execution_count": 77,
     "metadata": {},
     "output_type": "execute_result"
    }
   ],
   "source": [
    "date1 = dates[0]\n",
    "date2 = datetime.date(2020, 5, 27)\n",
    "s = date1 > date2\n",
    "s\n",
    "# Learning how to compare date objects"
   ]
  },
  {
   "cell_type": "code",
   "execution_count": 94,
   "metadata": {},
   "outputs": [
    {
     "name": "stdout",
     "output_type": "stream",
     "text": [
      "2020-03-19\n"
     ]
    }
   ],
   "source": [
    "for i in dates:\n",
    "    print(dates[0])\n",
    "# Confirming that we can read dates"
   ]
  },
  {
   "cell_type": "code",
   "execution_count": 97,
   "metadata": {},
   "outputs": [
    {
     "data": {
      "text/plain": [
       "[datetime.date(2020, 3, 19)]"
      ]
     },
     "execution_count": 97,
     "metadata": {},
     "output_type": "execute_result"
    }
   ],
   "source": [
    "commits = []\n",
    "for i in dates:\n",
    "    if dates[0] < date2:\n",
    "        commits.append(i)\n",
    "commits\n",
    "\n",
    "# Trying to loop through dates, but if we set <if dates[i] < date2:>, the result is \n",
    "# \"TypeError: list indices must be integers or slices, not datetime.date\""
   ]
  },
  {
   "cell_type": "code",
   "execution_count": 95,
   "metadata": {},
   "outputs": [
    {
     "ename": "SyntaxError",
     "evalue": "invalid syntax (<ipython-input-95-ff3b8e4b8305>, line 1)",
     "output_type": "error",
     "traceback": [
      "\u001b[0;36m  File \u001b[0;32m\"<ipython-input-95-ff3b8e4b8305>\"\u001b[0;36m, line \u001b[0;32m1\u001b[0m\n\u001b[0;31m    commits_last_week = [i if dates[0] <= date2 for i in dates]\u001b[0m\n\u001b[0m                                                  ^\u001b[0m\n\u001b[0;31mSyntaxError\u001b[0m\u001b[0;31m:\u001b[0m invalid syntax\n"
     ]
    }
   ],
   "source": [
    "commits_last_week = [i if dates[0] <= date2 for i in dates]\n",
    "# We don't know what is happening here!!"
   ]
  },
  {
   "cell_type": "code",
   "execution_count": 98,
   "metadata": {},
   "outputs": [
    {
     "name": "stdout",
     "output_type": "stream",
     "text": [
      "Total number of commits:  1\n"
     ]
    }
   ],
   "source": [
    "print('Total number of commits: ', len(resultados))\n",
    "# Just re-printing the result for the second question"
   ]
  }
 ],
 "metadata": {
  "kernelspec": {
   "display_name": "Python 3",
   "language": "python",
   "name": "python3"
  },
  "language_info": {
   "codemirror_mode": {
    "name": "ipython",
    "version": 3
   },
   "file_extension": ".py",
   "mimetype": "text/x-python",
   "name": "python",
   "nbconvert_exporter": "python",
   "pygments_lexer": "ipython3",
   "version": "3.7.6"
  }
 },
 "nbformat": 4,
 "nbformat_minor": 4
}
