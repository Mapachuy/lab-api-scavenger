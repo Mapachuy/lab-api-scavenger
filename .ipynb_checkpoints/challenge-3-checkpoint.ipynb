{
 "cells": [
  {
   "cell_type": "code",
   "execution_count": 66,
   "metadata": {},
   "outputs": [],
   "source": [
    "import requests\n",
    "# First, we need to import the requests library, for it is the based for api scraping"
   ]
  },
  {
   "cell_type": "code",
   "execution_count": 77,
   "metadata": {},
   "outputs": [
    {
     "data": {
      "text/plain": [
       "{'sha': '9308ccc8a4c34c5e3a991ee815222a9691c32476',\n",
       " 'url': 'https://api.github.com/repos/ironhack-datalabs/scavenger/git/trees/9308ccc8a4c34c5e3a991ee815222a9691c32476',\n",
       " 'tree': [{'path': '.gitignore',\n",
       "   'mode': '100644',\n",
       "   'type': 'blob',\n",
       "   'sha': 'e43b0f988953ae3a84b00331d0ccf5f7d51cb3cf',\n",
       "   'size': 10,\n",
       "   'url': 'https://api.github.com/repos/ironhack-datalabs/scavenger/git/blobs/e43b0f988953ae3a84b00331d0ccf5f7d51cb3cf'},\n",
       "  {'path': '15024',\n",
       "   'mode': '040000',\n",
       "   'type': 'tree',\n",
       "   'sha': '2945e51c87ad5da893c954afcf092f06343bbb7d',\n",
       "   'url': 'https://api.github.com/repos/ironhack-datalabs/scavenger/git/trees/2945e51c87ad5da893c954afcf092f06343bbb7d'},\n",
       "  {'path': '15534',\n",
       "   'mode': '040000',\n",
       "   'type': 'tree',\n",
       "   'sha': '5af6f2a7287e4191f39e55693fc1e9c8918d1d3a',\n",
       "   'url': 'https://api.github.com/repos/ironhack-datalabs/scavenger/git/trees/5af6f2a7287e4191f39e55693fc1e9c8918d1d3a'},\n",
       "  {'path': '17020',\n",
       "   'mode': '040000',\n",
       "   'type': 'tree',\n",
       "   'sha': '9c49f920aa4d9433fa99a5824128f0e6b90ec5f2',\n",
       "   'url': 'https://api.github.com/repos/ironhack-datalabs/scavenger/git/trees/9c49f920aa4d9433fa99a5824128f0e6b90ec5f2'},\n",
       "  {'path': '30351',\n",
       "   'mode': '040000',\n",
       "   'type': 'tree',\n",
       "   'sha': 'c488d7f64088c852e22067d48fdc64ee3670f3ba',\n",
       "   'url': 'https://api.github.com/repos/ironhack-datalabs/scavenger/git/trees/c488d7f64088c852e22067d48fdc64ee3670f3ba'},\n",
       "  {'path': '40303',\n",
       "   'mode': '040000',\n",
       "   'type': 'tree',\n",
       "   'sha': '30193d9cf62b07bcbb6366513ff03596861f2d29',\n",
       "   'url': 'https://api.github.com/repos/ironhack-datalabs/scavenger/git/trees/30193d9cf62b07bcbb6366513ff03596861f2d29'},\n",
       "  {'path': '44639',\n",
       "   'mode': '040000',\n",
       "   'type': 'tree',\n",
       "   'sha': '22fc3d5c2db80822c351edb2248f3491c8ebda86',\n",
       "   'url': 'https://api.github.com/repos/ironhack-datalabs/scavenger/git/trees/22fc3d5c2db80822c351edb2248f3491c8ebda86'},\n",
       "  {'path': '45525',\n",
       "   'mode': '040000',\n",
       "   'type': 'tree',\n",
       "   'sha': '6a4a88cd9084110c8646c3cfd84dfe96b300a4a7',\n",
       "   'url': 'https://api.github.com/repos/ironhack-datalabs/scavenger/git/trees/6a4a88cd9084110c8646c3cfd84dfe96b300a4a7'},\n",
       "  {'path': '47222',\n",
       "   'mode': '040000',\n",
       "   'type': 'tree',\n",
       "   'sha': 'c7001604cdadc2fe7b82e0f6996690718cac6941',\n",
       "   'url': 'https://api.github.com/repos/ironhack-datalabs/scavenger/git/trees/c7001604cdadc2fe7b82e0f6996690718cac6941'},\n",
       "  {'path': '47830',\n",
       "   'mode': '040000',\n",
       "   'type': 'tree',\n",
       "   'sha': 'f84882ad7560fd2b8c6a0867bc707ce9009ef288',\n",
       "   'url': 'https://api.github.com/repos/ironhack-datalabs/scavenger/git/trees/f84882ad7560fd2b8c6a0867bc707ce9009ef288'},\n",
       "  {'path': '49418',\n",
       "   'mode': '040000',\n",
       "   'type': 'tree',\n",
       "   'sha': '46bc658c09589d9023246b00e848ce97d30d4989',\n",
       "   'url': 'https://api.github.com/repos/ironhack-datalabs/scavenger/git/trees/46bc658c09589d9023246b00e848ce97d30d4989'},\n",
       "  {'path': '50896',\n",
       "   'mode': '040000',\n",
       "   'type': 'tree',\n",
       "   'sha': 'e47a7a35a19f80694587330c57d94e28d3b4c054',\n",
       "   'url': 'https://api.github.com/repos/ironhack-datalabs/scavenger/git/trees/e47a7a35a19f80694587330c57d94e28d3b4c054'},\n",
       "  {'path': '55417',\n",
       "   'mode': '040000',\n",
       "   'type': 'tree',\n",
       "   'sha': '636fa555a2ee752759144a268fd860feb2b6fd2d',\n",
       "   'url': 'https://api.github.com/repos/ironhack-datalabs/scavenger/git/trees/636fa555a2ee752759144a268fd860feb2b6fd2d'},\n",
       "  {'path': '55685',\n",
       "   'mode': '040000',\n",
       "   'type': 'tree',\n",
       "   'sha': 'a00a8148a88287508a867616d7063786d3d5d4ff',\n",
       "   'url': 'https://api.github.com/repos/ironhack-datalabs/scavenger/git/trees/a00a8148a88287508a867616d7063786d3d5d4ff'},\n",
       "  {'path': '60224',\n",
       "   'mode': '040000',\n",
       "   'type': 'tree',\n",
       "   'sha': '28d70fba98bfacfaa5e5544b2eff6b61c9e8f57b',\n",
       "   'url': 'https://api.github.com/repos/ironhack-datalabs/scavenger/git/trees/28d70fba98bfacfaa5e5544b2eff6b61c9e8f57b'},\n",
       "  {'path': '64880',\n",
       "   'mode': '040000',\n",
       "   'type': 'tree',\n",
       "   'sha': '88b159d6f73378e6968bb35ccfd8e3ad0cc462d2',\n",
       "   'url': 'https://api.github.com/repos/ironhack-datalabs/scavenger/git/trees/88b159d6f73378e6968bb35ccfd8e3ad0cc462d2'},\n",
       "  {'path': '66032',\n",
       "   'mode': '040000',\n",
       "   'type': 'tree',\n",
       "   'sha': '0230fa6fa1ccf49ab976fbbfc9eb838094779785',\n",
       "   'url': 'https://api.github.com/repos/ironhack-datalabs/scavenger/git/trees/0230fa6fa1ccf49ab976fbbfc9eb838094779785'},\n",
       "  {'path': '68848',\n",
       "   'mode': '040000',\n",
       "   'type': 'tree',\n",
       "   'sha': 'ed2f90be6835e7e74c283aedba1942b788754d32',\n",
       "   'url': 'https://api.github.com/repos/ironhack-datalabs/scavenger/git/trees/ed2f90be6835e7e74c283aedba1942b788754d32'},\n",
       "  {'path': '70751',\n",
       "   'mode': '040000',\n",
       "   'type': 'tree',\n",
       "   'sha': 'a5d9391003b67cecf3c336398ec38cfa75a689b7',\n",
       "   'url': 'https://api.github.com/repos/ironhack-datalabs/scavenger/git/trees/a5d9391003b67cecf3c336398ec38cfa75a689b7'},\n",
       "  {'path': '70985',\n",
       "   'mode': '040000',\n",
       "   'type': 'tree',\n",
       "   'sha': 'd1a654c5811f52ec8a101652b0a04367644eab99',\n",
       "   'url': 'https://api.github.com/repos/ironhack-datalabs/scavenger/git/trees/d1a654c5811f52ec8a101652b0a04367644eab99'},\n",
       "  {'path': '88596',\n",
       "   'mode': '040000',\n",
       "   'type': 'tree',\n",
       "   'sha': 'f294d2a0e55a4bab12625a7f709b44450a5e4648',\n",
       "   'url': 'https://api.github.com/repos/ironhack-datalabs/scavenger/git/trees/f294d2a0e55a4bab12625a7f709b44450a5e4648'},\n",
       "  {'path': '89046',\n",
       "   'mode': '040000',\n",
       "   'type': 'tree',\n",
       "   'sha': '5f3ef5f14cf72bbe03a24b69777ba02f19a3adb5',\n",
       "   'url': 'https://api.github.com/repos/ironhack-datalabs/scavenger/git/trees/5f3ef5f14cf72bbe03a24b69777ba02f19a3adb5'},\n",
       "  {'path': '89338',\n",
       "   'mode': '040000',\n",
       "   'type': 'tree',\n",
       "   'sha': '79c94a4032a927b2af52cc6da4ce27eb2abbf55e',\n",
       "   'url': 'https://api.github.com/repos/ironhack-datalabs/scavenger/git/trees/79c94a4032a927b2af52cc6da4ce27eb2abbf55e'},\n",
       "  {'path': '91701',\n",
       "   'mode': '040000',\n",
       "   'type': 'tree',\n",
       "   'sha': '0ad19115f0b56c3cd10cb7e077140c201b527301',\n",
       "   'url': 'https://api.github.com/repos/ironhack-datalabs/scavenger/git/trees/0ad19115f0b56c3cd10cb7e077140c201b527301'},\n",
       "  {'path': '97881',\n",
       "   'mode': '040000',\n",
       "   'type': 'tree',\n",
       "   'sha': 'c369c43c17ec44cc3e66dd27f8e557f9d15d40f4',\n",
       "   'url': 'https://api.github.com/repos/ironhack-datalabs/scavenger/git/trees/c369c43c17ec44cc3e66dd27f8e557f9d15d40f4'},\n",
       "  {'path': '98750',\n",
       "   'mode': '040000',\n",
       "   'type': 'tree',\n",
       "   'sha': 'cdc23915e0a5179127458431986ba3750840a924',\n",
       "   'url': 'https://api.github.com/repos/ironhack-datalabs/scavenger/git/trees/cdc23915e0a5179127458431986ba3750840a924'}],\n",
       " 'truncated': False}"
      ]
     },
     "execution_count": 77,
     "metadata": {},
     "output_type": "execute_result"
    }
   ],
   "source": [
    "respuesta = requests.get('https://api.github.com/repos/ironhack-datalabs/scavenger/git/trees/9308ccc8a4c34c5e3a991ee815222a9691c32476')\n",
    "# This is the url for our bootcamp :)\n",
    "respuesta\n",
    "resultados = respuesta.json()\n",
    "# We need to convert the data into json, so it can be usable\n",
    "resultados\n",
    "# We get to see the results from this calling"
   ]
  },
  {
   "cell_type": "code",
   "execution_count": 78,
   "metadata": {},
   "outputs": [
    {
     "data": {
      "text/plain": [
       "dict"
      ]
     },
     "execution_count": 78,
     "metadata": {},
     "output_type": "execute_result"
    }
   ],
   "source": [
    "type(resultados)\n",
    "# We need to know how many forks this repo has"
   ]
  },
  {
   "cell_type": "code",
   "execution_count": 89,
   "metadata": {},
   "outputs": [
    {
     "data": {
      "text/plain": [
       "dict_values(['9308ccc8a4c34c5e3a991ee815222a9691c32476', 'https://api.github.com/repos/ironhack-datalabs/scavenger/git/trees/9308ccc8a4c34c5e3a991ee815222a9691c32476', [{'path': '.gitignore', 'mode': '100644', 'type': 'blob', 'sha': 'e43b0f988953ae3a84b00331d0ccf5f7d51cb3cf', 'size': 10, 'url': 'https://api.github.com/repos/ironhack-datalabs/scavenger/git/blobs/e43b0f988953ae3a84b00331d0ccf5f7d51cb3cf'}, {'path': '15024', 'mode': '040000', 'type': 'tree', 'sha': '2945e51c87ad5da893c954afcf092f06343bbb7d', 'url': 'https://api.github.com/repos/ironhack-datalabs/scavenger/git/trees/2945e51c87ad5da893c954afcf092f06343bbb7d'}, {'path': '15534', 'mode': '040000', 'type': 'tree', 'sha': '5af6f2a7287e4191f39e55693fc1e9c8918d1d3a', 'url': 'https://api.github.com/repos/ironhack-datalabs/scavenger/git/trees/5af6f2a7287e4191f39e55693fc1e9c8918d1d3a'}, {'path': '17020', 'mode': '040000', 'type': 'tree', 'sha': '9c49f920aa4d9433fa99a5824128f0e6b90ec5f2', 'url': 'https://api.github.com/repos/ironhack-datalabs/scavenger/git/trees/9c49f920aa4d9433fa99a5824128f0e6b90ec5f2'}, {'path': '30351', 'mode': '040000', 'type': 'tree', 'sha': 'c488d7f64088c852e22067d48fdc64ee3670f3ba', 'url': 'https://api.github.com/repos/ironhack-datalabs/scavenger/git/trees/c488d7f64088c852e22067d48fdc64ee3670f3ba'}, {'path': '40303', 'mode': '040000', 'type': 'tree', 'sha': '30193d9cf62b07bcbb6366513ff03596861f2d29', 'url': 'https://api.github.com/repos/ironhack-datalabs/scavenger/git/trees/30193d9cf62b07bcbb6366513ff03596861f2d29'}, {'path': '44639', 'mode': '040000', 'type': 'tree', 'sha': '22fc3d5c2db80822c351edb2248f3491c8ebda86', 'url': 'https://api.github.com/repos/ironhack-datalabs/scavenger/git/trees/22fc3d5c2db80822c351edb2248f3491c8ebda86'}, {'path': '45525', 'mode': '040000', 'type': 'tree', 'sha': '6a4a88cd9084110c8646c3cfd84dfe96b300a4a7', 'url': 'https://api.github.com/repos/ironhack-datalabs/scavenger/git/trees/6a4a88cd9084110c8646c3cfd84dfe96b300a4a7'}, {'path': '47222', 'mode': '040000', 'type': 'tree', 'sha': 'c7001604cdadc2fe7b82e0f6996690718cac6941', 'url': 'https://api.github.com/repos/ironhack-datalabs/scavenger/git/trees/c7001604cdadc2fe7b82e0f6996690718cac6941'}, {'path': '47830', 'mode': '040000', 'type': 'tree', 'sha': 'f84882ad7560fd2b8c6a0867bc707ce9009ef288', 'url': 'https://api.github.com/repos/ironhack-datalabs/scavenger/git/trees/f84882ad7560fd2b8c6a0867bc707ce9009ef288'}, {'path': '49418', 'mode': '040000', 'type': 'tree', 'sha': '46bc658c09589d9023246b00e848ce97d30d4989', 'url': 'https://api.github.com/repos/ironhack-datalabs/scavenger/git/trees/46bc658c09589d9023246b00e848ce97d30d4989'}, {'path': '50896', 'mode': '040000', 'type': 'tree', 'sha': 'e47a7a35a19f80694587330c57d94e28d3b4c054', 'url': 'https://api.github.com/repos/ironhack-datalabs/scavenger/git/trees/e47a7a35a19f80694587330c57d94e28d3b4c054'}, {'path': '55417', 'mode': '040000', 'type': 'tree', 'sha': '636fa555a2ee752759144a268fd860feb2b6fd2d', 'url': 'https://api.github.com/repos/ironhack-datalabs/scavenger/git/trees/636fa555a2ee752759144a268fd860feb2b6fd2d'}, {'path': '55685', 'mode': '040000', 'type': 'tree', 'sha': 'a00a8148a88287508a867616d7063786d3d5d4ff', 'url': 'https://api.github.com/repos/ironhack-datalabs/scavenger/git/trees/a00a8148a88287508a867616d7063786d3d5d4ff'}, {'path': '60224', 'mode': '040000', 'type': 'tree', 'sha': '28d70fba98bfacfaa5e5544b2eff6b61c9e8f57b', 'url': 'https://api.github.com/repos/ironhack-datalabs/scavenger/git/trees/28d70fba98bfacfaa5e5544b2eff6b61c9e8f57b'}, {'path': '64880', 'mode': '040000', 'type': 'tree', 'sha': '88b159d6f73378e6968bb35ccfd8e3ad0cc462d2', 'url': 'https://api.github.com/repos/ironhack-datalabs/scavenger/git/trees/88b159d6f73378e6968bb35ccfd8e3ad0cc462d2'}, {'path': '66032', 'mode': '040000', 'type': 'tree', 'sha': '0230fa6fa1ccf49ab976fbbfc9eb838094779785', 'url': 'https://api.github.com/repos/ironhack-datalabs/scavenger/git/trees/0230fa6fa1ccf49ab976fbbfc9eb838094779785'}, {'path': '68848', 'mode': '040000', 'type': 'tree', 'sha': 'ed2f90be6835e7e74c283aedba1942b788754d32', 'url': 'https://api.github.com/repos/ironhack-datalabs/scavenger/git/trees/ed2f90be6835e7e74c283aedba1942b788754d32'}, {'path': '70751', 'mode': '040000', 'type': 'tree', 'sha': 'a5d9391003b67cecf3c336398ec38cfa75a689b7', 'url': 'https://api.github.com/repos/ironhack-datalabs/scavenger/git/trees/a5d9391003b67cecf3c336398ec38cfa75a689b7'}, {'path': '70985', 'mode': '040000', 'type': 'tree', 'sha': 'd1a654c5811f52ec8a101652b0a04367644eab99', 'url': 'https://api.github.com/repos/ironhack-datalabs/scavenger/git/trees/d1a654c5811f52ec8a101652b0a04367644eab99'}, {'path': '88596', 'mode': '040000', 'type': 'tree', 'sha': 'f294d2a0e55a4bab12625a7f709b44450a5e4648', 'url': 'https://api.github.com/repos/ironhack-datalabs/scavenger/git/trees/f294d2a0e55a4bab12625a7f709b44450a5e4648'}, {'path': '89046', 'mode': '040000', 'type': 'tree', 'sha': '5f3ef5f14cf72bbe03a24b69777ba02f19a3adb5', 'url': 'https://api.github.com/repos/ironhack-datalabs/scavenger/git/trees/5f3ef5f14cf72bbe03a24b69777ba02f19a3adb5'}, {'path': '89338', 'mode': '040000', 'type': 'tree', 'sha': '79c94a4032a927b2af52cc6da4ce27eb2abbf55e', 'url': 'https://api.github.com/repos/ironhack-datalabs/scavenger/git/trees/79c94a4032a927b2af52cc6da4ce27eb2abbf55e'}, {'path': '91701', 'mode': '040000', 'type': 'tree', 'sha': '0ad19115f0b56c3cd10cb7e077140c201b527301', 'url': 'https://api.github.com/repos/ironhack-datalabs/scavenger/git/trees/0ad19115f0b56c3cd10cb7e077140c201b527301'}, {'path': '97881', 'mode': '040000', 'type': 'tree', 'sha': 'c369c43c17ec44cc3e66dd27f8e557f9d15d40f4', 'url': 'https://api.github.com/repos/ironhack-datalabs/scavenger/git/trees/c369c43c17ec44cc3e66dd27f8e557f9d15d40f4'}, {'path': '98750', 'mode': '040000', 'type': 'tree', 'sha': 'cdc23915e0a5179127458431986ba3750840a924', 'url': 'https://api.github.com/repos/ironhack-datalabs/scavenger/git/trees/cdc23915e0a5179127458431986ba3750840a924'}], False])"
      ]
     },
     "execution_count": 89,
     "metadata": {},
     "output_type": "execute_result"
    }
   ],
   "source": [
    "resultados.values()"
   ]
  },
  {
   "cell_type": "code",
   "execution_count": 80,
   "metadata": {},
   "outputs": [
    {
     "data": {
      "text/plain": [
       "'https://api.github.com/repos/ironhack-datalabs/scavenger/git/trees/2945e51c87ad5da893c954afcf092f06343bbb7d'"
      ]
     },
     "execution_count": 80,
     "metadata": {},
     "output_type": "execute_result"
    }
   ],
   "source": [
    "resultados.get('tree')[1].get('url')"
   ]
  },
  {
   "cell_type": "code",
   "execution_count": 81,
   "metadata": {},
   "outputs": [
    {
     "data": {
      "text/plain": [
       "'15024'"
      ]
     },
     "execution_count": 81,
     "metadata": {},
     "output_type": "execute_result"
    }
   ],
   "source": [
    "resultados.get('tree')[1].get('path')"
   ]
  },
  {
   "cell_type": "code",
   "execution_count": 86,
   "metadata": {},
   "outputs": [
    {
     "ename": "TypeError",
     "evalue": "object of type 'builtin_function_or_method' has no len()",
     "output_type": "error",
     "traceback": [
      "\u001b[0;31m---------------------------------------------------------------------------\u001b[0m",
      "\u001b[0;31mTypeError\u001b[0m                                 Traceback (most recent call last)",
      "\u001b[0;32m<ipython-input-86-9348a779550c>\u001b[0m in \u001b[0;36m<module>\u001b[0;34m\u001b[0m\n\u001b[0;32m----> 1\u001b[0;31m \u001b[0;32mfor\u001b[0m \u001b[0mi\u001b[0m \u001b[0;32min\u001b[0m \u001b[0mrange\u001b[0m\u001b[0;34m(\u001b[0m\u001b[0mlen\u001b[0m\u001b[0;34m(\u001b[0m\u001b[0mresultados\u001b[0m\u001b[0;34m.\u001b[0m\u001b[0mvalues\u001b[0m\u001b[0;34m)\u001b[0m\u001b[0;34m)\u001b[0m\u001b[0;34m:\u001b[0m\u001b[0;34m\u001b[0m\u001b[0;34m\u001b[0m\u001b[0m\n\u001b[0m\u001b[1;32m      2\u001b[0m     \u001b[0mprint\u001b[0m\u001b[0;34m(\u001b[0m\u001b[0mresultados\u001b[0m\u001b[0;34m.\u001b[0m\u001b[0mget\u001b[0m\u001b[0;34m(\u001b[0m\u001b[0;34m'tree'\u001b[0m\u001b[0;34m)\u001b[0m\u001b[0;34m[\u001b[0m\u001b[0mi\u001b[0m\u001b[0;34m]\u001b[0m\u001b[0;34m.\u001b[0m\u001b[0mget\u001b[0m\u001b[0;34m(\u001b[0m\u001b[0;34m'path'\u001b[0m\u001b[0;34m)\u001b[0m\u001b[0;34m)\u001b[0m\u001b[0;34m\u001b[0m\u001b[0;34m\u001b[0m\u001b[0m\n",
      "\u001b[0;31mTypeError\u001b[0m: object of type 'builtin_function_or_method' has no len()"
     ]
    }
   ],
   "source": [
    "for i in range(len(resultados.values)):\n",
    "    print(resultados.get('tree')[i].get('path'))"
   ]
  },
  {
   "cell_type": "code",
   "execution_count": 46,
   "metadata": {},
   "outputs": [
    {
     "data": {
      "text/plain": [
       "[{'name': '.0006.scavengerhunt',\n",
       "  'path': '15024/.0006.scavengerhunt',\n",
       "  'sha': '1c9064284a24b3486015eafdb391b141c27ada2b',\n",
       "  'size': 3,\n",
       "  'url': 'https://api.github.com/repos/ironhack-datalabs/scavenger/contents/15024/.0006.scavengerhunt?ref=master',\n",
       "  'html_url': 'https://github.com/ironhack-datalabs/scavenger/blob/master/15024/.0006.scavengerhunt',\n",
       "  'git_url': 'https://api.github.com/repos/ironhack-datalabs/scavenger/git/blobs/1c9064284a24b3486015eafdb391b141c27ada2b',\n",
       "  'download_url': 'https://raw.githubusercontent.com/ironhack-datalabs/scavenger/master/15024/.0006.scavengerhunt',\n",
       "  'type': 'file',\n",
       "  '_links': {'self': 'https://api.github.com/repos/ironhack-datalabs/scavenger/contents/15024/.0006.scavengerhunt?ref=master',\n",
       "   'git': 'https://api.github.com/repos/ironhack-datalabs/scavenger/git/blobs/1c9064284a24b3486015eafdb391b141c27ada2b',\n",
       "   'html': 'https://github.com/ironhack-datalabs/scavenger/blob/master/15024/.0006.scavengerhunt'}},\n",
       " {'name': '40',\n",
       "  'path': '15024/40',\n",
       "  'sha': 'e69de29bb2d1d6434b8b29ae775ad8c2e48c5391',\n",
       "  'size': 0,\n",
       "  'url': 'https://api.github.com/repos/ironhack-datalabs/scavenger/contents/15024/40?ref=master',\n",
       "  'html_url': 'https://github.com/ironhack-datalabs/scavenger/blob/master/15024/40',\n",
       "  'git_url': 'https://api.github.com/repos/ironhack-datalabs/scavenger/git/blobs/e69de29bb2d1d6434b8b29ae775ad8c2e48c5391',\n",
       "  'download_url': 'https://raw.githubusercontent.com/ironhack-datalabs/scavenger/master/15024/40',\n",
       "  'type': 'file',\n",
       "  '_links': {'self': 'https://api.github.com/repos/ironhack-datalabs/scavenger/contents/15024/40?ref=master',\n",
       "   'git': 'https://api.github.com/repos/ironhack-datalabs/scavenger/git/blobs/e69de29bb2d1d6434b8b29ae775ad8c2e48c5391',\n",
       "   'html': 'https://github.com/ironhack-datalabs/scavenger/blob/master/15024/40'}},\n",
       " {'name': '74',\n",
       "  'path': '15024/74',\n",
       "  'sha': 'e69de29bb2d1d6434b8b29ae775ad8c2e48c5391',\n",
       "  'size': 0,\n",
       "  'url': 'https://api.github.com/repos/ironhack-datalabs/scavenger/contents/15024/74?ref=master',\n",
       "  'html_url': 'https://github.com/ironhack-datalabs/scavenger/blob/master/15024/74',\n",
       "  'git_url': 'https://api.github.com/repos/ironhack-datalabs/scavenger/git/blobs/e69de29bb2d1d6434b8b29ae775ad8c2e48c5391',\n",
       "  'download_url': 'https://raw.githubusercontent.com/ironhack-datalabs/scavenger/master/15024/74',\n",
       "  'type': 'file',\n",
       "  '_links': {'self': 'https://api.github.com/repos/ironhack-datalabs/scavenger/contents/15024/74?ref=master',\n",
       "   'git': 'https://api.github.com/repos/ironhack-datalabs/scavenger/git/blobs/e69de29bb2d1d6434b8b29ae775ad8c2e48c5391',\n",
       "   'html': 'https://github.com/ironhack-datalabs/scavenger/blob/master/15024/74'}},\n",
       " {'name': '99',\n",
       "  'path': '15024/99',\n",
       "  'sha': 'e69de29bb2d1d6434b8b29ae775ad8c2e48c5391',\n",
       "  'size': 0,\n",
       "  'url': 'https://api.github.com/repos/ironhack-datalabs/scavenger/contents/15024/99?ref=master',\n",
       "  'html_url': 'https://github.com/ironhack-datalabs/scavenger/blob/master/15024/99',\n",
       "  'git_url': 'https://api.github.com/repos/ironhack-datalabs/scavenger/git/blobs/e69de29bb2d1d6434b8b29ae775ad8c2e48c5391',\n",
       "  'download_url': 'https://raw.githubusercontent.com/ironhack-datalabs/scavenger/master/15024/99',\n",
       "  'type': 'file',\n",
       "  '_links': {'self': 'https://api.github.com/repos/ironhack-datalabs/scavenger/contents/15024/99?ref=master',\n",
       "   'git': 'https://api.github.com/repos/ironhack-datalabs/scavenger/git/blobs/e69de29bb2d1d6434b8b29ae775ad8c2e48c5391',\n",
       "   'html': 'https://github.com/ironhack-datalabs/scavenger/blob/master/15024/99'}}]"
      ]
     },
     "execution_count": 46,
     "metadata": {},
     "output_type": "execute_result"
    }
   ],
   "source": [
    "# Getting all the content for the first path\n",
    "#GET /repos/:owner/:repo/contents/:path\n",
    "respuesta2 = requests.get('https://api.github.com/repos/ironhack-datalabs/scavenger/contents/15024')\n",
    "resultados2 = respuesta2.json()\n",
    "resultados2"
   ]
  },
  {
   "cell_type": "code",
   "execution_count": 50,
   "metadata": {},
   "outputs": [
    {
     "data": {
      "text/plain": [
       "<Response [200]>"
      ]
     },
     "execution_count": 50,
     "metadata": {},
     "output_type": "execute_result"
    }
   ],
   "source": [
    "respuesta2"
   ]
  },
  {
   "cell_type": "code",
   "execution_count": 47,
   "metadata": {},
   "outputs": [
    {
     "data": {
      "text/plain": [
       "dict"
      ]
     },
     "execution_count": 47,
     "metadata": {},
     "output_type": "execute_result"
    }
   ],
   "source": [
    "type(resultados2[0])"
   ]
  },
  {
   "cell_type": "code",
   "execution_count": 48,
   "metadata": {},
   "outputs": [
    {
     "data": {
      "text/plain": [
       "'.0006.scavengerhunt'"
      ]
     },
     "execution_count": 48,
     "metadata": {},
     "output_type": "execute_result"
    }
   ],
   "source": [
    "resultados2[0].get('name')"
   ]
  },
  {
   "cell_type": "code",
   "execution_count": 53,
   "metadata": {},
   "outputs": [
    {
     "name": "stdout",
     "output_type": "stream",
     "text": [
      ".0006.scavengerhunt\n",
      ".0006.scavengerhunt\n",
      ".0006.scavengerhunt\n",
      ".0006.scavengerhunt\n"
     ]
    }
   ],
   "source": [
    "paths_list = []\n",
    "for path in range(len(resultados2)):\n",
    "    print(resultados2[0].get('name'))\n",
    "    \n",
    "#paths_list"
   ]
  },
  {
   "cell_type": "code",
   "execution_count": 56,
   "metadata": {},
   "outputs": [
    {
     "data": {
      "text/plain": [
       "[{'name': '.gitignore',\n",
       "  'path': '.gitignore',\n",
       "  'sha': 'e43b0f988953ae3a84b00331d0ccf5f7d51cb3cf',\n",
       "  'size': 10,\n",
       "  'url': 'https://api.github.com/repos/ironhack-datalabs/scavenger/contents/.gitignore?ref=master',\n",
       "  'html_url': 'https://github.com/ironhack-datalabs/scavenger/blob/master/.gitignore',\n",
       "  'git_url': 'https://api.github.com/repos/ironhack-datalabs/scavenger/git/blobs/e43b0f988953ae3a84b00331d0ccf5f7d51cb3cf',\n",
       "  'download_url': 'https://raw.githubusercontent.com/ironhack-datalabs/scavenger/master/.gitignore',\n",
       "  'type': 'file',\n",
       "  '_links': {'self': 'https://api.github.com/repos/ironhack-datalabs/scavenger/contents/.gitignore?ref=master',\n",
       "   'git': 'https://api.github.com/repos/ironhack-datalabs/scavenger/git/blobs/e43b0f988953ae3a84b00331d0ccf5f7d51cb3cf',\n",
       "   'html': 'https://github.com/ironhack-datalabs/scavenger/blob/master/.gitignore'}},\n",
       " {'name': '15024',\n",
       "  'path': '15024',\n",
       "  'sha': '2945e51c87ad5da893c954afcf092f06343bbb7d',\n",
       "  'size': 0,\n",
       "  'url': 'https://api.github.com/repos/ironhack-datalabs/scavenger/contents/15024?ref=master',\n",
       "  'html_url': 'https://github.com/ironhack-datalabs/scavenger/tree/master/15024',\n",
       "  'git_url': 'https://api.github.com/repos/ironhack-datalabs/scavenger/git/trees/2945e51c87ad5da893c954afcf092f06343bbb7d',\n",
       "  'download_url': None,\n",
       "  'type': 'dir',\n",
       "  '_links': {'self': 'https://api.github.com/repos/ironhack-datalabs/scavenger/contents/15024?ref=master',\n",
       "   'git': 'https://api.github.com/repos/ironhack-datalabs/scavenger/git/trees/2945e51c87ad5da893c954afcf092f06343bbb7d',\n",
       "   'html': 'https://github.com/ironhack-datalabs/scavenger/tree/master/15024'}},\n",
       " {'name': '15534',\n",
       "  'path': '15534',\n",
       "  'sha': '5af6f2a7287e4191f39e55693fc1e9c8918d1d3a',\n",
       "  'size': 0,\n",
       "  'url': 'https://api.github.com/repos/ironhack-datalabs/scavenger/contents/15534?ref=master',\n",
       "  'html_url': 'https://github.com/ironhack-datalabs/scavenger/tree/master/15534',\n",
       "  'git_url': 'https://api.github.com/repos/ironhack-datalabs/scavenger/git/trees/5af6f2a7287e4191f39e55693fc1e9c8918d1d3a',\n",
       "  'download_url': None,\n",
       "  'type': 'dir',\n",
       "  '_links': {'self': 'https://api.github.com/repos/ironhack-datalabs/scavenger/contents/15534?ref=master',\n",
       "   'git': 'https://api.github.com/repos/ironhack-datalabs/scavenger/git/trees/5af6f2a7287e4191f39e55693fc1e9c8918d1d3a',\n",
       "   'html': 'https://github.com/ironhack-datalabs/scavenger/tree/master/15534'}},\n",
       " {'name': '17020',\n",
       "  'path': '17020',\n",
       "  'sha': '9c49f920aa4d9433fa99a5824128f0e6b90ec5f2',\n",
       "  'size': 0,\n",
       "  'url': 'https://api.github.com/repos/ironhack-datalabs/scavenger/contents/17020?ref=master',\n",
       "  'html_url': 'https://github.com/ironhack-datalabs/scavenger/tree/master/17020',\n",
       "  'git_url': 'https://api.github.com/repos/ironhack-datalabs/scavenger/git/trees/9c49f920aa4d9433fa99a5824128f0e6b90ec5f2',\n",
       "  'download_url': None,\n",
       "  'type': 'dir',\n",
       "  '_links': {'self': 'https://api.github.com/repos/ironhack-datalabs/scavenger/contents/17020?ref=master',\n",
       "   'git': 'https://api.github.com/repos/ironhack-datalabs/scavenger/git/trees/9c49f920aa4d9433fa99a5824128f0e6b90ec5f2',\n",
       "   'html': 'https://github.com/ironhack-datalabs/scavenger/tree/master/17020'}},\n",
       " {'name': '30351',\n",
       "  'path': '30351',\n",
       "  'sha': 'c488d7f64088c852e22067d48fdc64ee3670f3ba',\n",
       "  'size': 0,\n",
       "  'url': 'https://api.github.com/repos/ironhack-datalabs/scavenger/contents/30351?ref=master',\n",
       "  'html_url': 'https://github.com/ironhack-datalabs/scavenger/tree/master/30351',\n",
       "  'git_url': 'https://api.github.com/repos/ironhack-datalabs/scavenger/git/trees/c488d7f64088c852e22067d48fdc64ee3670f3ba',\n",
       "  'download_url': None,\n",
       "  'type': 'dir',\n",
       "  '_links': {'self': 'https://api.github.com/repos/ironhack-datalabs/scavenger/contents/30351?ref=master',\n",
       "   'git': 'https://api.github.com/repos/ironhack-datalabs/scavenger/git/trees/c488d7f64088c852e22067d48fdc64ee3670f3ba',\n",
       "   'html': 'https://github.com/ironhack-datalabs/scavenger/tree/master/30351'}},\n",
       " {'name': '40303',\n",
       "  'path': '40303',\n",
       "  'sha': '30193d9cf62b07bcbb6366513ff03596861f2d29',\n",
       "  'size': 0,\n",
       "  'url': 'https://api.github.com/repos/ironhack-datalabs/scavenger/contents/40303?ref=master',\n",
       "  'html_url': 'https://github.com/ironhack-datalabs/scavenger/tree/master/40303',\n",
       "  'git_url': 'https://api.github.com/repos/ironhack-datalabs/scavenger/git/trees/30193d9cf62b07bcbb6366513ff03596861f2d29',\n",
       "  'download_url': None,\n",
       "  'type': 'dir',\n",
       "  '_links': {'self': 'https://api.github.com/repos/ironhack-datalabs/scavenger/contents/40303?ref=master',\n",
       "   'git': 'https://api.github.com/repos/ironhack-datalabs/scavenger/git/trees/30193d9cf62b07bcbb6366513ff03596861f2d29',\n",
       "   'html': 'https://github.com/ironhack-datalabs/scavenger/tree/master/40303'}},\n",
       " {'name': '44639',\n",
       "  'path': '44639',\n",
       "  'sha': '22fc3d5c2db80822c351edb2248f3491c8ebda86',\n",
       "  'size': 0,\n",
       "  'url': 'https://api.github.com/repos/ironhack-datalabs/scavenger/contents/44639?ref=master',\n",
       "  'html_url': 'https://github.com/ironhack-datalabs/scavenger/tree/master/44639',\n",
       "  'git_url': 'https://api.github.com/repos/ironhack-datalabs/scavenger/git/trees/22fc3d5c2db80822c351edb2248f3491c8ebda86',\n",
       "  'download_url': None,\n",
       "  'type': 'dir',\n",
       "  '_links': {'self': 'https://api.github.com/repos/ironhack-datalabs/scavenger/contents/44639?ref=master',\n",
       "   'git': 'https://api.github.com/repos/ironhack-datalabs/scavenger/git/trees/22fc3d5c2db80822c351edb2248f3491c8ebda86',\n",
       "   'html': 'https://github.com/ironhack-datalabs/scavenger/tree/master/44639'}},\n",
       " {'name': '45525',\n",
       "  'path': '45525',\n",
       "  'sha': '6a4a88cd9084110c8646c3cfd84dfe96b300a4a7',\n",
       "  'size': 0,\n",
       "  'url': 'https://api.github.com/repos/ironhack-datalabs/scavenger/contents/45525?ref=master',\n",
       "  'html_url': 'https://github.com/ironhack-datalabs/scavenger/tree/master/45525',\n",
       "  'git_url': 'https://api.github.com/repos/ironhack-datalabs/scavenger/git/trees/6a4a88cd9084110c8646c3cfd84dfe96b300a4a7',\n",
       "  'download_url': None,\n",
       "  'type': 'dir',\n",
       "  '_links': {'self': 'https://api.github.com/repos/ironhack-datalabs/scavenger/contents/45525?ref=master',\n",
       "   'git': 'https://api.github.com/repos/ironhack-datalabs/scavenger/git/trees/6a4a88cd9084110c8646c3cfd84dfe96b300a4a7',\n",
       "   'html': 'https://github.com/ironhack-datalabs/scavenger/tree/master/45525'}},\n",
       " {'name': '47222',\n",
       "  'path': '47222',\n",
       "  'sha': 'c7001604cdadc2fe7b82e0f6996690718cac6941',\n",
       "  'size': 0,\n",
       "  'url': 'https://api.github.com/repos/ironhack-datalabs/scavenger/contents/47222?ref=master',\n",
       "  'html_url': 'https://github.com/ironhack-datalabs/scavenger/tree/master/47222',\n",
       "  'git_url': 'https://api.github.com/repos/ironhack-datalabs/scavenger/git/trees/c7001604cdadc2fe7b82e0f6996690718cac6941',\n",
       "  'download_url': None,\n",
       "  'type': 'dir',\n",
       "  '_links': {'self': 'https://api.github.com/repos/ironhack-datalabs/scavenger/contents/47222?ref=master',\n",
       "   'git': 'https://api.github.com/repos/ironhack-datalabs/scavenger/git/trees/c7001604cdadc2fe7b82e0f6996690718cac6941',\n",
       "   'html': 'https://github.com/ironhack-datalabs/scavenger/tree/master/47222'}},\n",
       " {'name': '47830',\n",
       "  'path': '47830',\n",
       "  'sha': 'f84882ad7560fd2b8c6a0867bc707ce9009ef288',\n",
       "  'size': 0,\n",
       "  'url': 'https://api.github.com/repos/ironhack-datalabs/scavenger/contents/47830?ref=master',\n",
       "  'html_url': 'https://github.com/ironhack-datalabs/scavenger/tree/master/47830',\n",
       "  'git_url': 'https://api.github.com/repos/ironhack-datalabs/scavenger/git/trees/f84882ad7560fd2b8c6a0867bc707ce9009ef288',\n",
       "  'download_url': None,\n",
       "  'type': 'dir',\n",
       "  '_links': {'self': 'https://api.github.com/repos/ironhack-datalabs/scavenger/contents/47830?ref=master',\n",
       "   'git': 'https://api.github.com/repos/ironhack-datalabs/scavenger/git/trees/f84882ad7560fd2b8c6a0867bc707ce9009ef288',\n",
       "   'html': 'https://github.com/ironhack-datalabs/scavenger/tree/master/47830'}},\n",
       " {'name': '49418',\n",
       "  'path': '49418',\n",
       "  'sha': '46bc658c09589d9023246b00e848ce97d30d4989',\n",
       "  'size': 0,\n",
       "  'url': 'https://api.github.com/repos/ironhack-datalabs/scavenger/contents/49418?ref=master',\n",
       "  'html_url': 'https://github.com/ironhack-datalabs/scavenger/tree/master/49418',\n",
       "  'git_url': 'https://api.github.com/repos/ironhack-datalabs/scavenger/git/trees/46bc658c09589d9023246b00e848ce97d30d4989',\n",
       "  'download_url': None,\n",
       "  'type': 'dir',\n",
       "  '_links': {'self': 'https://api.github.com/repos/ironhack-datalabs/scavenger/contents/49418?ref=master',\n",
       "   'git': 'https://api.github.com/repos/ironhack-datalabs/scavenger/git/trees/46bc658c09589d9023246b00e848ce97d30d4989',\n",
       "   'html': 'https://github.com/ironhack-datalabs/scavenger/tree/master/49418'}},\n",
       " {'name': '50896',\n",
       "  'path': '50896',\n",
       "  'sha': 'e47a7a35a19f80694587330c57d94e28d3b4c054',\n",
       "  'size': 0,\n",
       "  'url': 'https://api.github.com/repos/ironhack-datalabs/scavenger/contents/50896?ref=master',\n",
       "  'html_url': 'https://github.com/ironhack-datalabs/scavenger/tree/master/50896',\n",
       "  'git_url': 'https://api.github.com/repos/ironhack-datalabs/scavenger/git/trees/e47a7a35a19f80694587330c57d94e28d3b4c054',\n",
       "  'download_url': None,\n",
       "  'type': 'dir',\n",
       "  '_links': {'self': 'https://api.github.com/repos/ironhack-datalabs/scavenger/contents/50896?ref=master',\n",
       "   'git': 'https://api.github.com/repos/ironhack-datalabs/scavenger/git/trees/e47a7a35a19f80694587330c57d94e28d3b4c054',\n",
       "   'html': 'https://github.com/ironhack-datalabs/scavenger/tree/master/50896'}},\n",
       " {'name': '55417',\n",
       "  'path': '55417',\n",
       "  'sha': '636fa555a2ee752759144a268fd860feb2b6fd2d',\n",
       "  'size': 0,\n",
       "  'url': 'https://api.github.com/repos/ironhack-datalabs/scavenger/contents/55417?ref=master',\n",
       "  'html_url': 'https://github.com/ironhack-datalabs/scavenger/tree/master/55417',\n",
       "  'git_url': 'https://api.github.com/repos/ironhack-datalabs/scavenger/git/trees/636fa555a2ee752759144a268fd860feb2b6fd2d',\n",
       "  'download_url': None,\n",
       "  'type': 'dir',\n",
       "  '_links': {'self': 'https://api.github.com/repos/ironhack-datalabs/scavenger/contents/55417?ref=master',\n",
       "   'git': 'https://api.github.com/repos/ironhack-datalabs/scavenger/git/trees/636fa555a2ee752759144a268fd860feb2b6fd2d',\n",
       "   'html': 'https://github.com/ironhack-datalabs/scavenger/tree/master/55417'}},\n",
       " {'name': '55685',\n",
       "  'path': '55685',\n",
       "  'sha': 'a00a8148a88287508a867616d7063786d3d5d4ff',\n",
       "  'size': 0,\n",
       "  'url': 'https://api.github.com/repos/ironhack-datalabs/scavenger/contents/55685?ref=master',\n",
       "  'html_url': 'https://github.com/ironhack-datalabs/scavenger/tree/master/55685',\n",
       "  'git_url': 'https://api.github.com/repos/ironhack-datalabs/scavenger/git/trees/a00a8148a88287508a867616d7063786d3d5d4ff',\n",
       "  'download_url': None,\n",
       "  'type': 'dir',\n",
       "  '_links': {'self': 'https://api.github.com/repos/ironhack-datalabs/scavenger/contents/55685?ref=master',\n",
       "   'git': 'https://api.github.com/repos/ironhack-datalabs/scavenger/git/trees/a00a8148a88287508a867616d7063786d3d5d4ff',\n",
       "   'html': 'https://github.com/ironhack-datalabs/scavenger/tree/master/55685'}},\n",
       " {'name': '60224',\n",
       "  'path': '60224',\n",
       "  'sha': '28d70fba98bfacfaa5e5544b2eff6b61c9e8f57b',\n",
       "  'size': 0,\n",
       "  'url': 'https://api.github.com/repos/ironhack-datalabs/scavenger/contents/60224?ref=master',\n",
       "  'html_url': 'https://github.com/ironhack-datalabs/scavenger/tree/master/60224',\n",
       "  'git_url': 'https://api.github.com/repos/ironhack-datalabs/scavenger/git/trees/28d70fba98bfacfaa5e5544b2eff6b61c9e8f57b',\n",
       "  'download_url': None,\n",
       "  'type': 'dir',\n",
       "  '_links': {'self': 'https://api.github.com/repos/ironhack-datalabs/scavenger/contents/60224?ref=master',\n",
       "   'git': 'https://api.github.com/repos/ironhack-datalabs/scavenger/git/trees/28d70fba98bfacfaa5e5544b2eff6b61c9e8f57b',\n",
       "   'html': 'https://github.com/ironhack-datalabs/scavenger/tree/master/60224'}},\n",
       " {'name': '64880',\n",
       "  'path': '64880',\n",
       "  'sha': '88b159d6f73378e6968bb35ccfd8e3ad0cc462d2',\n",
       "  'size': 0,\n",
       "  'url': 'https://api.github.com/repos/ironhack-datalabs/scavenger/contents/64880?ref=master',\n",
       "  'html_url': 'https://github.com/ironhack-datalabs/scavenger/tree/master/64880',\n",
       "  'git_url': 'https://api.github.com/repos/ironhack-datalabs/scavenger/git/trees/88b159d6f73378e6968bb35ccfd8e3ad0cc462d2',\n",
       "  'download_url': None,\n",
       "  'type': 'dir',\n",
       "  '_links': {'self': 'https://api.github.com/repos/ironhack-datalabs/scavenger/contents/64880?ref=master',\n",
       "   'git': 'https://api.github.com/repos/ironhack-datalabs/scavenger/git/trees/88b159d6f73378e6968bb35ccfd8e3ad0cc462d2',\n",
       "   'html': 'https://github.com/ironhack-datalabs/scavenger/tree/master/64880'}},\n",
       " {'name': '66032',\n",
       "  'path': '66032',\n",
       "  'sha': '0230fa6fa1ccf49ab976fbbfc9eb838094779785',\n",
       "  'size': 0,\n",
       "  'url': 'https://api.github.com/repos/ironhack-datalabs/scavenger/contents/66032?ref=master',\n",
       "  'html_url': 'https://github.com/ironhack-datalabs/scavenger/tree/master/66032',\n",
       "  'git_url': 'https://api.github.com/repos/ironhack-datalabs/scavenger/git/trees/0230fa6fa1ccf49ab976fbbfc9eb838094779785',\n",
       "  'download_url': None,\n",
       "  'type': 'dir',\n",
       "  '_links': {'self': 'https://api.github.com/repos/ironhack-datalabs/scavenger/contents/66032?ref=master',\n",
       "   'git': 'https://api.github.com/repos/ironhack-datalabs/scavenger/git/trees/0230fa6fa1ccf49ab976fbbfc9eb838094779785',\n",
       "   'html': 'https://github.com/ironhack-datalabs/scavenger/tree/master/66032'}},\n",
       " {'name': '68848',\n",
       "  'path': '68848',\n",
       "  'sha': 'ed2f90be6835e7e74c283aedba1942b788754d32',\n",
       "  'size': 0,\n",
       "  'url': 'https://api.github.com/repos/ironhack-datalabs/scavenger/contents/68848?ref=master',\n",
       "  'html_url': 'https://github.com/ironhack-datalabs/scavenger/tree/master/68848',\n",
       "  'git_url': 'https://api.github.com/repos/ironhack-datalabs/scavenger/git/trees/ed2f90be6835e7e74c283aedba1942b788754d32',\n",
       "  'download_url': None,\n",
       "  'type': 'dir',\n",
       "  '_links': {'self': 'https://api.github.com/repos/ironhack-datalabs/scavenger/contents/68848?ref=master',\n",
       "   'git': 'https://api.github.com/repos/ironhack-datalabs/scavenger/git/trees/ed2f90be6835e7e74c283aedba1942b788754d32',\n",
       "   'html': 'https://github.com/ironhack-datalabs/scavenger/tree/master/68848'}},\n",
       " {'name': '70751',\n",
       "  'path': '70751',\n",
       "  'sha': 'a5d9391003b67cecf3c336398ec38cfa75a689b7',\n",
       "  'size': 0,\n",
       "  'url': 'https://api.github.com/repos/ironhack-datalabs/scavenger/contents/70751?ref=master',\n",
       "  'html_url': 'https://github.com/ironhack-datalabs/scavenger/tree/master/70751',\n",
       "  'git_url': 'https://api.github.com/repos/ironhack-datalabs/scavenger/git/trees/a5d9391003b67cecf3c336398ec38cfa75a689b7',\n",
       "  'download_url': None,\n",
       "  'type': 'dir',\n",
       "  '_links': {'self': 'https://api.github.com/repos/ironhack-datalabs/scavenger/contents/70751?ref=master',\n",
       "   'git': 'https://api.github.com/repos/ironhack-datalabs/scavenger/git/trees/a5d9391003b67cecf3c336398ec38cfa75a689b7',\n",
       "   'html': 'https://github.com/ironhack-datalabs/scavenger/tree/master/70751'}},\n",
       " {'name': '70985',\n",
       "  'path': '70985',\n",
       "  'sha': 'd1a654c5811f52ec8a101652b0a04367644eab99',\n",
       "  'size': 0,\n",
       "  'url': 'https://api.github.com/repos/ironhack-datalabs/scavenger/contents/70985?ref=master',\n",
       "  'html_url': 'https://github.com/ironhack-datalabs/scavenger/tree/master/70985',\n",
       "  'git_url': 'https://api.github.com/repos/ironhack-datalabs/scavenger/git/trees/d1a654c5811f52ec8a101652b0a04367644eab99',\n",
       "  'download_url': None,\n",
       "  'type': 'dir',\n",
       "  '_links': {'self': 'https://api.github.com/repos/ironhack-datalabs/scavenger/contents/70985?ref=master',\n",
       "   'git': 'https://api.github.com/repos/ironhack-datalabs/scavenger/git/trees/d1a654c5811f52ec8a101652b0a04367644eab99',\n",
       "   'html': 'https://github.com/ironhack-datalabs/scavenger/tree/master/70985'}},\n",
       " {'name': '88596',\n",
       "  'path': '88596',\n",
       "  'sha': 'f294d2a0e55a4bab12625a7f709b44450a5e4648',\n",
       "  'size': 0,\n",
       "  'url': 'https://api.github.com/repos/ironhack-datalabs/scavenger/contents/88596?ref=master',\n",
       "  'html_url': 'https://github.com/ironhack-datalabs/scavenger/tree/master/88596',\n",
       "  'git_url': 'https://api.github.com/repos/ironhack-datalabs/scavenger/git/trees/f294d2a0e55a4bab12625a7f709b44450a5e4648',\n",
       "  'download_url': None,\n",
       "  'type': 'dir',\n",
       "  '_links': {'self': 'https://api.github.com/repos/ironhack-datalabs/scavenger/contents/88596?ref=master',\n",
       "   'git': 'https://api.github.com/repos/ironhack-datalabs/scavenger/git/trees/f294d2a0e55a4bab12625a7f709b44450a5e4648',\n",
       "   'html': 'https://github.com/ironhack-datalabs/scavenger/tree/master/88596'}},\n",
       " {'name': '89046',\n",
       "  'path': '89046',\n",
       "  'sha': '5f3ef5f14cf72bbe03a24b69777ba02f19a3adb5',\n",
       "  'size': 0,\n",
       "  'url': 'https://api.github.com/repos/ironhack-datalabs/scavenger/contents/89046?ref=master',\n",
       "  'html_url': 'https://github.com/ironhack-datalabs/scavenger/tree/master/89046',\n",
       "  'git_url': 'https://api.github.com/repos/ironhack-datalabs/scavenger/git/trees/5f3ef5f14cf72bbe03a24b69777ba02f19a3adb5',\n",
       "  'download_url': None,\n",
       "  'type': 'dir',\n",
       "  '_links': {'self': 'https://api.github.com/repos/ironhack-datalabs/scavenger/contents/89046?ref=master',\n",
       "   'git': 'https://api.github.com/repos/ironhack-datalabs/scavenger/git/trees/5f3ef5f14cf72bbe03a24b69777ba02f19a3adb5',\n",
       "   'html': 'https://github.com/ironhack-datalabs/scavenger/tree/master/89046'}},\n",
       " {'name': '89338',\n",
       "  'path': '89338',\n",
       "  'sha': '79c94a4032a927b2af52cc6da4ce27eb2abbf55e',\n",
       "  'size': 0,\n",
       "  'url': 'https://api.github.com/repos/ironhack-datalabs/scavenger/contents/89338?ref=master',\n",
       "  'html_url': 'https://github.com/ironhack-datalabs/scavenger/tree/master/89338',\n",
       "  'git_url': 'https://api.github.com/repos/ironhack-datalabs/scavenger/git/trees/79c94a4032a927b2af52cc6da4ce27eb2abbf55e',\n",
       "  'download_url': None,\n",
       "  'type': 'dir',\n",
       "  '_links': {'self': 'https://api.github.com/repos/ironhack-datalabs/scavenger/contents/89338?ref=master',\n",
       "   'git': 'https://api.github.com/repos/ironhack-datalabs/scavenger/git/trees/79c94a4032a927b2af52cc6da4ce27eb2abbf55e',\n",
       "   'html': 'https://github.com/ironhack-datalabs/scavenger/tree/master/89338'}},\n",
       " {'name': '91701',\n",
       "  'path': '91701',\n",
       "  'sha': '0ad19115f0b56c3cd10cb7e077140c201b527301',\n",
       "  'size': 0,\n",
       "  'url': 'https://api.github.com/repos/ironhack-datalabs/scavenger/contents/91701?ref=master',\n",
       "  'html_url': 'https://github.com/ironhack-datalabs/scavenger/tree/master/91701',\n",
       "  'git_url': 'https://api.github.com/repos/ironhack-datalabs/scavenger/git/trees/0ad19115f0b56c3cd10cb7e077140c201b527301',\n",
       "  'download_url': None,\n",
       "  'type': 'dir',\n",
       "  '_links': {'self': 'https://api.github.com/repos/ironhack-datalabs/scavenger/contents/91701?ref=master',\n",
       "   'git': 'https://api.github.com/repos/ironhack-datalabs/scavenger/git/trees/0ad19115f0b56c3cd10cb7e077140c201b527301',\n",
       "   'html': 'https://github.com/ironhack-datalabs/scavenger/tree/master/91701'}},\n",
       " {'name': '97881',\n",
       "  'path': '97881',\n",
       "  'sha': 'c369c43c17ec44cc3e66dd27f8e557f9d15d40f4',\n",
       "  'size': 0,\n",
       "  'url': 'https://api.github.com/repos/ironhack-datalabs/scavenger/contents/97881?ref=master',\n",
       "  'html_url': 'https://github.com/ironhack-datalabs/scavenger/tree/master/97881',\n",
       "  'git_url': 'https://api.github.com/repos/ironhack-datalabs/scavenger/git/trees/c369c43c17ec44cc3e66dd27f8e557f9d15d40f4',\n",
       "  'download_url': None,\n",
       "  'type': 'dir',\n",
       "  '_links': {'self': 'https://api.github.com/repos/ironhack-datalabs/scavenger/contents/97881?ref=master',\n",
       "   'git': 'https://api.github.com/repos/ironhack-datalabs/scavenger/git/trees/c369c43c17ec44cc3e66dd27f8e557f9d15d40f4',\n",
       "   'html': 'https://github.com/ironhack-datalabs/scavenger/tree/master/97881'}},\n",
       " {'name': '98750',\n",
       "  'path': '98750',\n",
       "  'sha': 'cdc23915e0a5179127458431986ba3750840a924',\n",
       "  'size': 0,\n",
       "  'url': 'https://api.github.com/repos/ironhack-datalabs/scavenger/contents/98750?ref=master',\n",
       "  'html_url': 'https://github.com/ironhack-datalabs/scavenger/tree/master/98750',\n",
       "  'git_url': 'https://api.github.com/repos/ironhack-datalabs/scavenger/git/trees/cdc23915e0a5179127458431986ba3750840a924',\n",
       "  'download_url': None,\n",
       "  'type': 'dir',\n",
       "  '_links': {'self': 'https://api.github.com/repos/ironhack-datalabs/scavenger/contents/98750?ref=master',\n",
       "   'git': 'https://api.github.com/repos/ironhack-datalabs/scavenger/git/trees/cdc23915e0a5179127458431986ba3750840a924',\n",
       "   'html': 'https://github.com/ironhack-datalabs/scavenger/tree/master/98750'}}]"
      ]
     },
     "execution_count": 56,
     "metadata": {},
     "output_type": "execute_result"
    }
   ],
   "source": [
    "refe='15024'\n",
    "respuesta2 = requests.get('https://api.github.com/repos/ironhack-datalabs/scavenger/contents/', refe)\n",
    "resultados2 = respuesta2.json()\n",
    "resultados2"
   ]
  },
  {
   "cell_type": "code",
   "execution_count": null,
   "metadata": {},
   "outputs": [],
   "source": []
  }
 ],
 "metadata": {
  "kernelspec": {
   "display_name": "Python 3",
   "language": "python",
   "name": "python3"
  },
  "language_info": {
   "codemirror_mode": {
    "name": "ipython",
    "version": 3
   },
   "file_extension": ".py",
   "mimetype": "text/x-python",
   "name": "python",
   "nbconvert_exporter": "python",
   "pygments_lexer": "ipython3",
   "version": "3.7.6"
  }
 },
 "nbformat": 4,
 "nbformat_minor": 4
}
